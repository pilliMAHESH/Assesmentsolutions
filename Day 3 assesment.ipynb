{
 "cells": [
  {
   "cell_type": "markdown",
   "metadata": {},
   "source": [
    "3. Define a function to validate email addresses based on the following rules.\n",
    "\n",
    "Email should be in the format username@domain.extension\n",
    "username must start with an alphabet and can contain lowercase alphabet, digits, hyphen(-) and underscores( _ ).\n",
    "username must not contain special characters, uppercase letters, whitespaces.\n",
    "Length of username must be in the range (6, 16)\n",
    "Domain can only contain lowercase alphabet and digits with length in range (3, 10) . No special characters are allowed\n",
    "Extension can only contain lower case alphabet and its length must be in the range (2, 4)\n",
    "First line of input contains total number of email addresses n. Next n lines contain n email addresses.\n",
    "\n",
    "Output must contain contain n lines with either 'Valid' or 'Invalid'"
   ]
  },
  {
   "cell_type": "code",
   "execution_count": null,
   "metadata": {},
   "outputs": [],
   "source": []
  },
  {
   "cell_type": "code",
   "execution_count": 2,
   "metadata": {},
   "outputs": [
    {
     "name": "stdout",
     "output_type": "stream",
     "text": [
      "enter num of usernames1\n",
      "Enter usernamepillim123@gmail.com\n",
      "valid\n"
     ]
    }
   ],
   "source": [
    "import re\n",
    "def main():\n",
    "    n=int(input(\"enter num of usernames\"))\n",
    "    for i in range(0,n):\n",
    "        usena=input(\"Enter username\")\n",
    "        reg=\"[a-z]{5,9}[0-9]{1,6}[@][a-z]{3,12}[.][a-z]{2,3}\"\n",
    "        pat=re.compile(reg)\n",
    "        mat=re.search(pat,usena)\n",
    "        if mat:\n",
    "            print(\"valid\")\n",
    "        else:\n",
    "            print(\"Invalid\")\n",
    "if __name__=='__main__':\n",
    "    main()"
   ]
  },
  {
   "cell_type": "code",
   "execution_count": null,
   "metadata": {},
   "outputs": [],
   "source": []
  },
  {
   "cell_type": "markdown",
   "metadata": {},
   "source": [
    "1.Define a function to identity the number of times a substring is repeating in a given string\n",
    "\n",
    "substringCount('str', 'substr') -> 1\n",
    "substringCount('1234567891122334455', '3') -> 3\n",
    "substringCount('abccddccc', 'cc') -> 3\n",
    "substringCount('aaaaaaa', 'aaa' ) -> "
   ]
  },
  {
   "cell_type": "code",
   "execution_count": 8,
   "metadata": {},
   "outputs": [
    {
     "name": "stdout",
     "output_type": "stream",
     "text": [
      "enter main srting cccc\n",
      "enter sub string cc\n"
     ]
    },
    {
     "data": {
      "text/plain": [
       "2"
      ]
     },
     "execution_count": 8,
     "metadata": {},
     "output_type": "execute_result"
    }
   ],
   "source": [
    "str1=input(\"enter main srting \")\n",
    "substr=input(\"enter sub string \")\n",
    "def strvalid(str1,substr):\n",
    "    return str1.count(substr,0,len(str1))\n",
    "strvalid(str1,substr)"
   ]
  },
  {
   "cell_type": "code",
   "execution_count": 6,
   "metadata": {},
   "outputs": [
    {
     "name": "stdout",
     "output_type": "stream",
     "text": [
      "enter main srting cccc\n",
      "enter sub string cc\n",
      "3\n"
     ]
    }
   ],
   "source": [
    "str1=input(\"enter main srting \")\n",
    "substr=input(\"enter sub string \")\n",
    "def strvalid(str1,substr):\n",
    "    for i in range(0,len(str1)):\n",
    "        if str1[i]==substr[0]:\n",
    "            \n",
    "            if str1[i:i+len(substr)]==substr:\n",
    "                \n",
    "                count+=1\n",
    "    print(count)\n",
    "strvalid(str1,substr)                 "
   ]
  },
  {
   "cell_type": "markdown",
   "metadata": {},
   "source": [
    " Define a function to merge the characters of two strings alternatively. The remaining characters\n",
    "\n",
    "     of the longer string are printed in the same order at the end.\n",
    "\n",
    "mergeString('abcd', 'abcd') -> 'aabbccdd'\n",
    "mergeString('abc', '123456') -> 'a1b2c3456'\n",
    "mergeString('0', '123456') -> '0123456'"
   ]
  },
  {
   "cell_type": "code",
   "execution_count": null,
   "metadata": {},
   "outputs": [],
   "source": []
  },
  {
   "cell_type": "code",
   "execution_count": 14,
   "metadata": {},
   "outputs": [
    {
     "name": "stdout",
     "output_type": "stream",
     "text": [
      "enter str1 abc\n",
      "emter str2 defgh\n",
      "adbecfg\n",
      "h\n"
     ]
    }
   ],
   "source": [
    "str1=input(\"enter str1 \")\n",
    "str2=input(\"emter str2 \")\n",
    "if(len(str1)==len(str2)):\n",
    "    for i in range(0,len(str1)):\n",
    "        print(str1[i],str2[i],end=\"\")\n",
    "elif(len(str1)<len(str2)):\n",
    "    for i in range(0,len(str1)):\n",
    "        print(str1[i]+str2[i],end=\"\")\n",
    "    \n",
    "    for j in range(i+1,len(str2)):\n",
    "        print(str2[j])\n",
    "else:\n",
    "    for i in range(0,len(str2)):\n",
    "        print(str1[i]+str2[i],end=\"\")\n",
    "    print(i)\n",
    "    for j in range(i+1,len(str1)):\n",
    "        print(str1[j])\n",
    " "
   ]
  },
  {
   "cell_type": "code",
   "execution_count": null,
   "metadata": {},
   "outputs": [],
   "source": []
  },
  {
   "cell_type": "markdown",
   "metadata": {},
   "source": [
    "## Panda"
   ]
  },
  {
   "cell_type": "code",
   "execution_count": null,
   "metadata": {},
   "outputs": [],
   "source": []
  }
 ],
 "metadata": {
  "kernelspec": {
   "display_name": "Python 3",
   "language": "python",
   "name": "python3"
  }
 },
 "nbformat": 4,
 "nbformat_minor": 2
}
