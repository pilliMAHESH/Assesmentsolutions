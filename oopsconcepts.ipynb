{
 "cells": [
  {
   "cell_type": "markdown",
   "metadata": {},
   "source": [
    "## oops concepts"
   ]
  },
  {
   "cell_type": "code",
   "execution_count": 15,
   "metadata": {},
   "outputs": [
    {
     "name": "stdout",
     "output_type": "stream",
     "text": [
      "9\n",
      "Hello GM\n",
      "20\n"
     ]
    }
   ],
   "source": [
    "class A1:\n",
    "    _d=20\n",
    "    def __init__(self,a,b,c):\n",
    "        self.a=a\n",
    "        self.b=b\n",
    "        self.c=c\n",
    "    def sumof3(self):\n",
    "        print(self.a+self.b+self.c)\n",
    "    def printt(self):\n",
    "        print(\"Hello GM\")\n",
    "obj=A1(2,3,4)\n",
    "obj.sumof3()\n",
    "obj.printt()\n",
    "print(A1._d)\n",
    "        "
   ]
  },
  {
   "cell_type": "code",
   "execution_count": 9,
   "metadata": {},
   "outputs": [
    {
     "name": "stdout",
     "output_type": "stream",
     "text": [
      "12.566370614359172\n"
     ]
    }
   ],
   "source": [
    "#import math\n",
    "class cir:\n",
    "    def Area(self,r):\n",
    "        self.r=r\n",
    "        print(math.pi*self.r*self.r)\n",
    "c1=cir()\n",
    "c1.Area(2)"
   ]
  },
  {
   "cell_type": "code",
   "execution_count": 22,
   "metadata": {},
   "outputs": [
    {
     "name": "stdout",
     "output_type": "stream",
     "text": [
      "12.566370614359172\n",
      "28.274333882308138\n",
      "50.26548245743669\n"
     ]
    }
   ],
   "source": [
    "class cir:\n",
    "    def __init__(self,r):\n",
    "        self.r=r\n",
    "    def Area(self):\n",
    "        print(math.pi*self.r*self.r)\n",
    "c1=cir(2)\n",
    "c1.Area()\n",
    "c2=cir(3)\n",
    "c2.Area()\n",
    "c3=cir(4)\n",
    "c3.Area()"
   ]
  },
  {
   "cell_type": "code",
   "execution_count": 57,
   "metadata": {},
   "outputs": [
    {
     "name": "stdout",
     "output_type": "stream",
     "text": [
      "2200.0\n",
      "3600.0\n",
      "Hello World\n"
     ]
    }
   ],
   "source": [
    "class MImob:\n",
    "    disc=10\n",
    "    def __init__(self,price):\n",
    "        self.price=price\n",
    "    def pri(self):\n",
    "        am=self.price*MImob.disc/100\n",
    "        print(self.price+am)\n",
    "class Vivo:\n",
    "    disc=20\n",
    "    def __init__(self,price):\n",
    "        self.price=price\n",
    "    def pri(self):\n",
    "        am=self.price*Vivo.disc/100\n",
    "        print(self.price+am)\n",
    "\n",
    "class Mi(Vivo):\n",
    "    def __init__(self,price):\n",
    "        \n",
    "        super().__init__(price)\n",
    "        super().pri()\n",
    "        print(\"Hello World\")\n",
    "        \n",
    "\n",
    "ob1=MImob(2000)\n",
    "ob1.pri()\n",
    "ob2=Mi(3000)\n",
    "\n",
    "\n",
    "        "
   ]
  },
  {
   "cell_type": "code",
   "execution_count": 45,
   "metadata": {},
   "outputs": [
    {
     "name": "stdout",
     "output_type": "stream",
     "text": [
      "How R U\n"
     ]
    }
   ],
   "source": [
    "class Mi():\n",
    "    def hee(self):\n",
    "        print(\"Hello World\")\n",
    "class Vivo():\n",
    "    def hee(self):\n",
    "        print(\"Good Morning\")\n",
    "class Azu(Vivo,Mi):\n",
    "    def hee(self):\n",
    "        print(\"How R U\")\n",
    "a1=Azu()\n",
    "a1.hee()\n",
    "        \n"
   ]
  },
  {
   "cell_type": "markdown",
   "metadata": {},
   "source": [
    "## overloading in python.python doesn't support overloading"
   ]
  },
  {
   "cell_type": "code",
   "execution_count": 51,
   "metadata": {},
   "outputs": [
    {
     "name": "stdout",
     "output_type": "stream",
     "text": [
      "dsnk\n"
     ]
    }
   ],
   "source": [
    "def printinfo(na):\n",
    "    print(\"hello\",na)\n",
    "def printinfo():\n",
    "    print(\"dsnk\")\n",
    "printinfo()\n"
   ]
  },
  {
   "cell_type": "code",
   "execution_count": 52,
   "metadata": {},
   "outputs": [
    {
     "name": "stdout",
     "output_type": "stream",
     "text": [
      "140736231937440\n"
     ]
    }
   ],
   "source": [
    "x=20\n",
    "print(id(x))"
   ]
  },
  {
   "cell_type": "markdown",
   "metadata": {},
   "source": [
    "## variable creation in class outside the function"
   ]
  },
  {
   "cell_type": "code",
   "execution_count": 68,
   "metadata": {},
   "outputs": [
    {
     "name": "stdout",
     "output_type": "stream",
     "text": [
      "2200.0\n",
      "10\n",
      "3600.0\n"
     ]
    }
   ],
   "source": [
    "class A1:\n",
    "    disc=10\n",
    "    def __init__(self,price):\n",
    "        self.price=price\n",
    "    def pri(self):\n",
    "        am=self.price*A1.disc/100\n",
    "        print(self.price+am)\n",
    "class B1:\n",
    "    disc=20\n",
    "    def __init__(self,price):\n",
    "        self.price=price\n",
    "    def pri(self):\n",
    "        am=self.price*B1.disc/100\n",
    "        print(self.price+am)\n",
    "\n",
    "ob1=A1(2000)\n",
    "ob1.pri()\n",
    "print(A1.disc)\n",
    "\n",
    "ob2=B1(3000)\n",
    "ob2.pri()\n",
    "\n",
    "    "
   ]
  },
  {
   "cell_type": "code",
   "execution_count": 74,
   "metadata": {},
   "outputs": [
    {
     "name": "stdout",
     "output_type": "stream",
     "text": [
      "this is hii\n",
      "GM\n"
     ]
    }
   ],
   "source": [
    "class A:\n",
    "    def dii(self,a):\n",
    "        self.a=a\n",
    "        \n",
    "        print(\"this is \"+self.a)\n",
    "class B(A):\n",
    "    def dii(self,a,b):\n",
    "        self.a=a\n",
    "        self.b=b\n",
    "        print(\"this is \"+ self.a)\n",
    "        print(self.b)\n",
    "ob1=B()\n",
    "ob1.dii('hii','GM')"
   ]
  },
  {
   "cell_type": "markdown",
   "metadata": {},
   "source": [
    "## Accessing private variable"
   ]
  },
  {
   "cell_type": "code",
   "execution_count": 82,
   "metadata": {},
   "outputs": [
    {
     "name": "stdout",
     "output_type": "stream",
     "text": [
      "10\n"
     ]
    }
   ],
   "source": [
    "class A1:\n",
    "    def __init__(self,a,b):\n",
    "        self.__a=a\n",
    "        self.b=b\n",
    "    def getaatr(self):\n",
    "        print(self.__a)\n",
    "ob1=A1(10,20)\n",
    "ob1.getaatr()\n"
   ]
  },
  {
   "cell_type": "code",
   "execution_count": 81,
   "metadata": {},
   "outputs": [
    {
     "name": "stdout",
     "output_type": "stream",
     "text": [
      "21\n"
     ]
    }
   ],
   "source": [
    "class A22: \n",
    "    def __init__(self, age): \n",
    "         self.__age = age \n",
    "       \n",
    "    def get_age(self): \n",
    "        return self.__age \n",
    "       \n",
    "    def set_age(self, x): \n",
    "        self.__age = x \n",
    "  \n",
    "ob1=A22(15) \n",
    "raj.set_age(21) \n",
    "print(raj.get_age()) \n"
   ]
  },
  {
   "cell_type": "markdown",
   "metadata": {},
   "source": [
    "## Magical methods to overload operator"
   ]
  },
  {
   "cell_type": "code",
   "execution_count": 90,
   "metadata": {},
   "outputs": [
    {
     "name": "stdout",
     "output_type": "stream",
     "text": [
      "(-1, -2)\n"
     ]
    }
   ],
   "source": [
    "class A1: \n",
    "    def __init__(self, a, b): \n",
    "        self.a = a \n",
    "        self.b = b \n",
    "  \n",
    "       \n",
    "    def __sub__(self, other): \n",
    "        return self.a - other.a, self.b - other.b \n",
    "  \n",
    "  \n",
    "ob1=A1(1, 2) \n",
    "ob2 =A1(2, 4) \n",
    "ob3=ob1-ob2\n",
    "print(ob3) "
   ]
  },
  {
   "cell_type": "code",
   "execution_count": null,
   "metadata": {},
   "outputs": [],
   "source": []
  }
 ],
 "metadata": {
  "kernelspec": {
   "display_name": "Python 3",
   "language": "python",
   "name": "python3"
  },
  "language_info": {
   "codemirror_mode": {
    "name": "ipython",
    "version": 3
   },
   "file_extension": ".py",
   "mimetype": "text/x-python",
   "name": "python",
   "nbconvert_exporter": "python",
   "pygments_lexer": "ipython3",
   "version": "3.7.3"
  }
 },
 "nbformat": 4,
 "nbformat_minor": 2
}
