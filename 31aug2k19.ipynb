{
 "cells": [
  {
   "cell_type": "markdown",
   "metadata": {},
   "source": [
    "## You are given n words. Some words may repeat. For each word, output its number of occurrences. The output order should correspond with the input order of appearance of the word. \n",
    "## First line of input contains the total number of words n. Next n lines contain words that need to processed.\n",
    "\n",
    "## First line of the output should contain the total number distinct words. Second line of output must contain the frequency of words the same order of their appearance as in the input\n",
    "\n",
    "** Sample Input : 6\n",
    "\n",
    "abcd\n",
    "\n",
    "ijkl\n",
    "\n",
    "abcd\n",
    "\n",
    "pqrs\n",
    "\n",
    "abcd\n",
    "\n",
    "ijkl\n",
    "\n",
    "Sample Output : 3\n",
    "\n",
    "3 2 1\n",
    "\n",
    "\n",
    "\n",
    "2 . Define a function to validate email addresses based on the following rules.\n",
    "\n",
    "Email should be in the format username@domain.extension\n",
    "username must start with an alphabet and can contain lowercase alphabet, digits, hyphen(-) and underscores( _ ).\n",
    "username must not contain special characters, uppercase letters, whitespaces.\n",
    "Length of username must be in the range (6, 16)\n",
    "Domain can only contain lowercase alphabet and digits with length in range (3, 10) . No special characters are allowed\n",
    "Extension can only contain lower case alphabet and its length must be in the range (2, 4)\n",
    "First line of input contains total number of email addresses n. Next n lines contain n email addresses.\n",
    "\n",
    "Output must contain contain n lines with either 'Valid' or 'Invalid'\n",
    "\n",
    "Sample Input : 6\n",
    "\n",
    "abc456@gmail.com\n",
    "\n",
    "456abc@yahoo.com\n",
    "\n",
    "abc_456@gitam.ed1\n",
    "\n",
    "abc-456@abc-d.in\n",
    "\n",
    "python@python.edu\n",
    "\n",
    "abc 456@edu.edu\n",
    "\n",
    "Sample Output : Valid\n",
    "\n",
    "Invalid\n",
    "\n",
    "Invalid\n",
    "\n",
    "Invalid\n",
    "\n",
    "Valid\n",
    "\n",
    "Invalid\n",
    "\n",
    "\n",
    "\n",
    "3 . Define a function that take an array of integers A, and an integer K and returns the longest possible sub-set of A i.e A' such that the sum of no two elements in A' is divisible by K.\n",
    "\n",
    "First line in input contains the length of A and the integer K. Second line of input contains len(A) space-separated integers.\n",
    "\n",
    "Output must contain the length of A' list\n",
    "\n",
    "Sample Input : 4 3\n",
    "\n",
    "1 7 2 4\n",
    "\n",
    "Sample Output : 3"
   ]
  },
  {
   "cell_type": "code",
   "execution_count": 35,
   "metadata": {},
   "outputs": [
    {
     "name": "stdout",
     "output_type": "stream",
     "text": [
      "['abcd', 'ijkl', 'pqrs']\n",
      "[3, 2, 1]\n"
     ]
    }
   ],
   "source": [
    "lt=['abcd','ijkl','abcd','pqrs','abcd','ijkl']\n",
    "kt=list(dict.fromkeys(lt))  #to remove duplicates\n",
    "print(kt)\n",
    "ct=[]\n",
    "\n",
    "for i in range(len(kt)):\n",
    "    count=0\n",
    "    \n",
    "    for j in range(len(lt)):\n",
    "        \n",
    "        if kt[i]==lt[j]:\n",
    "                count+=1\n",
    "    ct.append(count)\n",
    "print(ct)\n",
    "\n",
    "\n",
    "    "
   ]
  },
  {
   "cell_type": "code",
   "execution_count": 37,
   "metadata": {},
   "outputs": [
    {
     "name": "stdout",
     "output_type": "stream",
     "text": [
      "enter num of usernames1\n",
      "Enter usernamehdfskdeuuf@gdujsh.cifcj\n",
      "Invalid\n"
     ]
    }
   ],
   "source": [
    "import re\n",
    "def main():\n",
    "    n=int(input(\"enter num of usernames\"))\n",
    "    for i in range(0,n):\n",
    "        usena=input(\"Enter username\")\n",
    "        reg=\"[a-z]{5,9}[0-9]{1,6}[@][a-z]{3,12}[.][a-z]{2,3}\"\n",
    "        pat=re.compile(reg)\n",
    "        mat=re.search(pat,usena)\n",
    "        if mat:\n",
    "            print(\"valid\")\n",
    "        else:\n",
    "            print(\"Invalid\")\n",
    "if __name__=='__main__':\n",
    "    main()"
   ]
  },
  {
   "cell_type": "code",
   "execution_count": 48,
   "metadata": {},
   "outputs": [
    {
     "name": "stdout",
     "output_type": "stream",
     "text": [
      "3\n"
     ]
    }
   ],
   "source": [
    "#3rd solution\n",
    "def subs(list1,k):\n",
    "    count=0\n",
    "    for i in range(len(list1)):\n",
    "        for j in range(i+1,len(list1)):\n",
    "            \n",
    "            a=list1[i]+list1[j]\n",
    "            if a%k!=0:\n",
    "                count+=1\n",
    "    print(count)\n",
    "                \n",
    "            \n",
    "list1=[1,7,2,4]\n",
    "k=3\n",
    "subs(list1,k)\n",
    "\n",
    "            "
   ]
  },
  {
   "cell_type": "markdown",
   "metadata": {},
   "source": [
    "4.Python program to add two matrices.\n",
    "\n",
    "5. Python program to check if the given number is a Disarium number.\n",
    "\n",
    "6. Python program to find transpose of a matix.\n",
    "\n",
    "7. Python program to  remove punctuations from a string.\n",
    "\n",
    "8. Python program to print all Happy Numbers between 1 to 100. "
   ]
  },
  {
   "cell_type": "code",
   "execution_count": 38,
   "metadata": {},
   "outputs": [
    {
     "name": "stdout",
     "output_type": "stream",
     "text": [
      "6 12 \n",
      "6 12 \n"
     ]
    }
   ],
   "source": [
    "def add2mat(l1,l2,c):\n",
    "    for i in range(len(l1)):\n",
    "        for j in range(len(l2)):\n",
    "            \n",
    "            c[i][j]=l1[i][j]*l2[i][j]\n",
    "l1=[[2,3],[3,4]]\n",
    "l2=[[3,4],[2,3]]\n",
    "c=l1[:][:]\n",
    "add2mat(l1,l2,c)\n",
    "\n",
    "for i in range(len(l1)):\n",
    "    \n",
    "    for j in range(len(l2)):\n",
    "         print(c[i][j],end=\" \")\n",
    "    print(\"\")\n",
    "    \n",
    "    \n"
   ]
  },
  {
   "cell_type": "code",
   "execution_count": 39,
   "metadata": {},
   "outputs": [
    {
     "name": "stdout",
     "output_type": "stream",
     "text": [
      "enter any number135\n",
      "Disarium\n"
     ]
    }
   ],
   "source": [
    "#disarium number\n",
    "def disco(n):\n",
    "    temp=n\n",
    "    sum=0\n",
    "    count=len(str(n))\n",
    "    while(n!=0):\n",
    "        t=n%10\n",
    "        a=t**count\n",
    "        sum=sum+a\n",
    "        n=n//10\n",
    "        count=count-1\n",
    "    if sum==temp:\n",
    "        print(\"Disarium\")\n",
    "    else:\n",
    "        print(\"Not A Disarium\")\n",
    "n=int(input(\"enter any number\"))\n",
    "disco(n)"
   ]
  },
  {
   "cell_type": "code",
   "execution_count": 19,
   "metadata": {},
   "outputs": [
    {
     "name": "stdout",
     "output_type": "stream",
     "text": [
      "[[1 2]\n",
      " [2 3]\n",
      " [3 4]]\n"
     ]
    }
   ],
   "source": [
    "#transpose of a matrix\n",
    "import numpy as np\n",
    "a=np.array([[1,2,3],[2,3,4]])\n",
    "print(a.transpose())"
   ]
  },
  {
   "cell_type": "code",
   "execution_count": 37,
   "metadata": {},
   "outputs": [
    {
     "name": "stdout",
     "output_type": "stream",
     "text": [
      "Result matrix is\n",
      "1  2  3  \n",
      "1  2  3  \n",
      "1  2  3  \n",
      "1  2  3  \n"
     ]
    }
   ],
   "source": [
    "def trans(A): \n",
    "    m=len(A)\n",
    "    n=len(A[0])\n",
    "    B = [[0 for x in range(m)] for y in range(n)]  \n",
    "  \n",
    "    for i in range(n): \n",
    "        for j in range(m): \n",
    "            B[i][j] = A[j][i]\n",
    "    print(\"Result matrix is\") \n",
    "    for i in range(n): \n",
    "        for j in range(m): \n",
    "            print(B[i][j], \" \", end='') \n",
    "        print()     \n",
    "A = [ [1, 1, 1, 1], \n",
    "    [2, 2, 2, 2], \n",
    "    [3, 3, 3, 3]] \n",
    "\n",
    "trans(A)   "
   ]
  },
  {
   "cell_type": "code",
   "execution_count": 36,
   "metadata": {},
   "outputs": [
    {
     "name": "stdout",
     "output_type": "stream",
     "text": [
      "enter any string with special charactershfdjdhj,.;'%:\n",
      "hfdjdhj%\n"
     ]
    }
   ],
   "source": [
    "#to remove puctuation marks\n",
    "def puctuation(str1):\n",
    "    punc1=\",.?\"\"'':;!\"\n",
    "    for x in str1: \n",
    "        if x in punc1: \n",
    "            str1 = str1.replace(x, \"\") \n",
    "  \n",
    "    print(str1) \n",
    "str1=input(\"enter any string with special characters\")\n",
    "puctuation(str1) "
   ]
  },
  {
   "cell_type": "code",
   "execution_count": null,
   "metadata": {},
   "outputs": [],
   "source": [
    "#"
   ]
  }
 ],
 "metadata": {
  "kernelspec": {
   "display_name": "Python 3",
   "language": "python",
   "name": "python3"
  },
  "language_info": {
   "codemirror_mode": {
    "name": "ipython",
    "version": 3
   },
   "file_extension": ".py",
   "mimetype": "text/x-python",
   "name": "python",
   "nbconvert_exporter": "python",
   "pygments_lexer": "ipython3",
   "version": "3.7.3"
  }
 },
 "nbformat": 4,
 "nbformat_minor": 2
}
