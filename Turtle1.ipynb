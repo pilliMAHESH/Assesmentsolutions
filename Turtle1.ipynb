{
 "cells": [
  {
   "cell_type": "code",
   "execution_count": 2,
   "metadata": {},
   "outputs": [],
   "source": [
    "import turtle as t\n",
    "wn=t.Screen()\n",
    "t1=t.Turtle()\n",
    "t1.forward(200)"
   ]
  },
  {
   "cell_type": "markdown",
   "metadata": {},
   "source": [
    "## Turtle Examples"
   ]
  },
  {
   "cell_type": "code",
   "execution_count": null,
   "metadata": {},
   "outputs": [],
   "source": []
  },
  {
   "cell_type": "code",
   "execution_count": null,
   "metadata": {},
   "outputs": [],
   "source": [
    "import turtle as t\n",
    "wn=t.Screen()\n",
    "star=t.Turtle()\n",
    "for i in range(10):\n",
    "    star.forward(50)\n",
    "    star.right(144)\n",
    "t.done()"
   ]
  },
  {
   "cell_type": "markdown",
   "metadata": {},
   "source": [
    "## File Handling"
   ]
  },
  {
   "cell_type": "code",
   "execution_count": 4,
   "metadata": {
    "scrolled": true
   },
   "outputs": [
    {
     "name": "stdout",
     "output_type": "stream",
     "text": [
      "['Batman', 'is', 'a', 'fictional', 'superhero', 'appearing', 'in', 'American', 'comic', 'books', 'published', 'by', 'DC', 'Comics.', 'The', 'character', 'was', 'created', 'by', 'artist', 'Bob', 'Kane', 'and', 'writer', 'Bill', 'Finger,', 'and', 'first', 'appeared', 'in', 'Detective', 'Comics', '#27', 'in', '1939.']\n",
      "\n",
      "\n",
      "{'Batman': 1, 'is': 2, 'a': 3, 'fictional': 4, 'superhero': 5, 'appearing': 6, 'in': 34, 'American': 8, 'comic': 9, 'books': 10, 'published': 11, 'by': 19, 'DC': 13, 'Comics.': 14, 'The': 15, 'character': 16, 'was': 17, 'created': 18, 'artist': 20, 'Bob': 21, 'Kane': 22, 'and': 27, 'writer': 24, 'Bill': 25, 'Finger,': 26, 'first': 28, 'appeared': 29, 'Detective': 31, 'Comics': 32, '#27': 33, '1939.': 35}\n",
      "\n",
      "\n",
      "{'Batman': '', 'is': '', 'a': '', 'fictional': '', 'superhero': '', 'appearing': '', 'in': '', 'American': '', 'comic': '', 'books': '', 'published': '', 'by': '', 'DC': '', 'Comics.': '', 'The': '', 'character': '', 'was': '', 'created': '', 'artist': '', 'Bob': '', 'Kane': '', 'and': '', 'writer': '', 'Bill': '', 'Finger,': '', 'first': '', 'appeared': '', 'Detective': '', 'Comics': '', '#27': '', '1939.': ''}\n",
      "\n",
      "\n",
      "{'Batman': 1, 'is': 1, 'a': 1, 'fictional': 1, 'superhero': 1, 'appearing': 1, 'in': 3, 'American': 1, 'comic': 1, 'books': 1, 'published': 1, 'by': 2, 'DC': 1, 'Comics.': 1, 'The': 1, 'character': 1, 'was': 1, 'created': 1, 'artist': 1, 'Bob': 1, 'Kane': 1, 'and': 2, 'writer': 1, 'Bill': 1, 'Finger,': 1, 'first': 1, 'appeared': 1, 'Detective': 1, 'Comics': 1, '#27': 1, '1939.': 1}\n"
     ]
    },
    {
     "data": {
      "text/plain": [
       "' def frquncytabl(data,listee):for word in listee.keys():\\n        listee[word]=len(re.findall(word,data))\\n        return listeefrquncytabl(wordlist,listee)\\n'"
      ]
     },
     "execution_count": 4,
     "metadata": {},
     "output_type": "execute_result"
    }
   ],
   "source": [
    "import re\n",
    "#to read file\n",
    "def readfile(fn):\n",
    "    f=open(fn,'r')\n",
    "    filedata=f.read()\n",
    "    return filedata\n",
    "fn='Datafiles/file1.txt'\n",
    "wordlist=re.split(' ',readfile(fn))\n",
    "print(wordlist)\n",
    "print('\\n')\n",
    "dicti={}\n",
    "a=0\n",
    "listee={}\n",
    "freq={}\n",
    "#to add data into a dictionary\n",
    "for i in wordlist:\n",
    "    a=a+1\n",
    "    dicti[i]=a\n",
    "print(dicti)\n",
    "print('\\n')\n",
    "#exteract unique keys in Dictionary\n",
    "'''for i in wordlist:\n",
    "    if i not in listee:\n",
    "        listee.append(i)\n",
    "print(listee)'''\n",
    "for i in wordlist:\n",
    "    if i not in listee.keys():\n",
    "        listee[i]=''\n",
    "print(listee)\n",
    "print('\\n')\n",
    "\n",
    "#function to calculate a frequency of words findall(inbiit in py)(searchword,totaldata)\n",
    "for i in wordlist:\n",
    "    if i in freq.keys():\n",
    "        freq[i]+=1\n",
    "    else:\n",
    "        freq[i]=1\n",
    "print(freq)\n",
    "''' def frquncytabl(data,listee):for word in listee.keys():\n",
    "        listee[word]=len(re.findall(word,data))\n",
    "        return listeefrquncytabl(wordlist,listee)\n",
    "'''\n",
    "    \n",
    "        "
   ]
  },
  {
   "cell_type": "code",
   "execution_count": null,
   "metadata": {},
   "outputs": [],
   "source": []
  },
  {
   "cell_type": "markdown",
   "metadata": {},
   "source": [
    "## NUmpy\n"
   ]
  },
  {
   "cell_type": "code",
   "execution_count": null,
   "metadata": {},
   "outputs": [],
   "source": []
  },
  {
   "cell_type": "code",
   "execution_count": null,
   "metadata": {},
   "outputs": [],
   "source": [
    "imprt numpy as np\n"
   ]
  },
  {
   "cell_type": "markdown",
   "metadata": {},
   "source": [
    "## PANDA"
   ]
  },
  {
   "cell_type": "markdown",
   "metadata": {},
   "source": [
    "## line plot"
   ]
  },
  {
   "cell_type": "code",
   "execution_count": null,
   "metadata": {},
   "outputs": [],
   "source": [
    "import matplotlib.pyplot as plt\n",
    "import matplotlib.animation as ani\n"
   ]
  },
  {
   "cell_type": "code",
   "execution_count": 3,
   "metadata": {},
   "outputs": [
    {
     "data": {
      "image/png": "[encoded data removed]",
      "text/plain": [
       "<Figure size 432x288 with 1 Axes>"
      ]
     },
     "metadata": {
      "needs_background": "light"
     },
     "output_type": "display_data"
    }
   ],
   "source": [
    "import matplotlib.pyplot as plt\n",
    "import matplotlib.animation as ani\n",
    "\n",
    "plt.plot([1,2,3,4],[3,4,5,6])\n",
    "plt.xlabel(\"some\")\n",
    "plt.ylabel(\"yaxis\")\n",
    "plt.show()"
   ]
  },
  {
   "cell_type": "code",
   "execution_count": 4,
   "metadata": {},
   "outputs": [
    {
     "data": {
      "image/png": "[encoded data removed]",
      "text/plain": [
       "<Figure size 432x288 with 1 Axes>"
      ]
     },
     "metadata": {
      "needs_background": "light"
     },
     "output_type": "display_data"
    }
   ],
   "source": [
    "import matplotlib.pyplot as plt\n",
    "import matplotlib.animation as ani\n",
    "\n",
    "plt.plot([1,2,3,4],[3,4,4,6])\n",
    "plt.xlabel(\"some\")\n",
    "plt.ylabel(\"yaxis\")\n",
    "plt.show()"
   ]
  },
  {
   "cell_type": "code",
   "execution_count": 5,
   "metadata": {},
   "outputs": [
    {
     "data": {
      "image/png": "[encoded data removed]",
      "text/plain": [
       "<Figure size 432x288 with 1 Axes>"
      ]
     },
     "metadata": {
      "needs_background": "light"
     },
     "output_type": "display_data"
    }
   ],
   "source": [
    "import matplotlib\n",
    "import matplotlib.pyplot as plt\n",
    "import numpy as np\n",
    "\n",
    "\n",
    "labels = ['G1', 'G2', 'G3', 'G4', 'G5']\n",
    "men_means = [20, 34, 30, 35, 27]\n",
    "women_means = [25, 32, 34, 20, 25]\n",
    "\n",
    "x = np.arange(len(labels))  # the label locations\n",
    "width = 0.35  # the width of the bars\n",
    "\n",
    "fig, ax = plt.subplots()\n",
    "rects1 = ax.bar(x - width/2, men_means, width, label='Men')\n",
    "rects2 = ax.bar(x + width/2, women_means, width, label='Women')\n",
    "\n",
    "# Add some text for labels, title and custom x-axis tick labels, etc.\n",
    "ax.set_ylabel('Scores')\n",
    "ax.set_title('Scores by group and gender')\n",
    "ax.set_xticks(x)\n",
    "ax.set_xticklabels(labels)\n",
    "ax.legend()\n",
    "\n",
    "\n",
    "def autolabel(rects):\n",
    "    \"\"\"Attach a text label above each bar in *rects*, displaying its height.\"\"\"\n",
    "    for rect in rects:\n",
    "        height = rect.get_height()\n",
    "        ax.annotate('{}'.format(height),\n",
    "                    xy=(rect.get_x() + rect.get_width() / 2, height),\n",
    "                    xytext=(0, 3),  # 3 points vertical offset\n",
    "                    textcoords=\"offset points\",\n",
    "                    ha='center', va='bottom')\n",
    "\n",
    "\n",
    "autolabel(rects1)\n",
    "autolabel(rects2)\n",
    "\n",
    "fig.tight_layout()\n",
    "\n",
    "plt.show()"
   ]
  },
  {
   "cell_type": "code",
   "execution_count": 1,
   "metadata": {},
   "outputs": [],
   "source": [
    "import numpy as np\n",
    "import matplotlib.pyplot as plt\n",
    "\n",
    "\n",
    "def koch_snowflake(order, scale=10):\n",
    "    \"\"\"\n",
    "    Return two lists x, y of point coordinates of the Koch snowflake.\n",
    "\n",
    "    Arguments\n",
    "    ---------\n",
    "    order : int\n",
    "        The recursion depth.\n",
    "    scale : float\n",
    "        The extent of the snowflake (edge length of the base triangle).\n",
    "    \"\"\"\n",
    "    def _koch_snowflake_complex(order):\n",
    "        if order == 0:\n",
    "            # initial triangle\n",
    "            angles = np.array([0, 120, 240]) + 90\n",
    "            return scale / np.sqrt(3) * np.exp(np.deg2rad(angles) * 1j)\n",
    "        else:\n",
    "            ZR = 0.5 - 0.5j * np.sqrt(3) / 3\n",
    "\n",
    "            p1 = _koch_snowflake_complex(order - 1)  # start points\n",
    "            p2 = np.roll(p1, shift=-1)  # end points\n",
    "            dp = p2 - p1  # connection vectors\n",
    "\n",
    "            new_points = np.empty(len(p1) * 4, dtype=np.complex128)\n",
    "            new_points[::4] = p1\n",
    "            new_points[1::4] = p1 + dp / 3\n",
    "            new_points[2::4] = p1 + dp * ZR\n",
    "            new_points[3::4] = p1 + dp / 3 * 2\n",
    "            return new_points\n",
    "\n",
    "    points = _koch_snowflake_complex(order)\n",
    "    x, y = points.real, points.imag\n",
    "    return x, y"
   ]
  },
  {
   "cell_type": "code",
   "execution_count": null,
   "metadata": {},
   "outputs": [],
   "source": []
  }
 ],
 "metadata": {
  "kernelspec": {
   "display_name": "Python 3",
   "language": "python",
   "name": "python3"
  },
  "language_info": {
   "codemirror_mode": {
    "name": "ipython",
    "version": 3
   },
   "file_extension": ".py",
   "mimetype": "text/x-python",
   "name": "python",
   "nbconvert_exporter": "python",
   "pygments_lexer": "ipython3",
   "version": "3.7.3"
  }
 },
 "nbformat": 4,
 "nbformat_minor": 2
}
