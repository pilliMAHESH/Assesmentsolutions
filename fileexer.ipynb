{
 "cells": [
  {
   "cell_type": "code",
   "execution_count": 10,
   "metadata": {},
   "outputs": [],
   "source": [
    "import os\n",
    "os.mkdir(\"garrixx1\")"
   ]
  },
  {
   "cell_type": "code",
   "execution_count": 11,
   "metadata": {},
   "outputs": [],
   "source": [
    "import random\n",
    "import string\n",
    "def filen(stringlength):\n",
    "    letters=string.ascii_lowercase\n",
    "    a=''.join(random.choice(letters) for i in range(stringlength))\n",
    "    return a\n",
    "def randomString(stringLength):\n",
    "    letters=string.ascii_lowercase\n",
    "    b=''.join(random.choice(letters) for i in range(stringLength))\n",
    "    return b\n",
    "\n",
    "for i in range(0,5):\n",
    "    f=open(os.path.join(\"garrixx1\",filen(5)+\".\"+\"txt\"),'w')\n",
    "    f.write(randomString(512))\n",
    "f.close()"
   ]
  },
  {
   "cell_type": "code",
   "execution_count": 7,
   "metadata": {},
   "outputs": [],
   "source": [
    "import random\n",
    "Number=random.randint(0,10)\n",
    "for i in range(0,Number):\n",
    "    fa=open(\"[0].txt\".format(random.choice(\"\")))\n",
    "    chars=''.join([random.choice('ABCDEHGHIJLJGYUJHGYTYGT')])\n",
    "    fa.write(chars)\n",
    "    fa.close()"
   ]
  },
  {
   "cell_type": "code",
   "execution_count": null,
   "metadata": {},
   "outputs": [],
   "source": []
  }
 ],
 "metadata": {
  "kernelspec": {
   "display_name": "Python 3",
   "language": "python",
   "name": "python3"
  },
  "language_info": {
   "codemirror_mode": {
    "name": "ipython",
    "version": 3
   },
   "file_extension": ".py",
   "mimetype": "text/x-python",
   "name": "python",
   "nbconvert_exporter": "python",
   "pygments_lexer": "ipython3",
   "version": "3.7.3"
  }
 },
 "nbformat": 4,
 "nbformat_minor": 2
}
